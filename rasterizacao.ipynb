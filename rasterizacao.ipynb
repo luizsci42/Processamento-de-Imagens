{
 "cells": [
  {
   "cell_type": "markdown",
   "metadata": {
    "collapsed": true,
    "pycharm": {
     "name": "#%% md\n"
    }
   },
   "source": [
    "# Rasterização"
   ]
  },
  {
   "cell_type": "code",
   "execution_count": 9,
   "outputs": [],
   "source": [
    "matriz_imagem = [[]]\n",
    "with open('img/imagem.ppm', encoding='utf-8') as img:\n",
    "    linha = img.readlines()\n",
    "\n",
    "    if str(linha).startswith('#'):\n",
    "        print(linha)\n",
    "    else:\n",
    "        matriz_imagem.append(str(linha))\n",
    "\n",
    "\n",
    "# print(matriz_imagem)\n"
   ],
   "metadata": {
    "collapsed": false,
    "pycharm": {
     "name": "#%%\n"
    }
   }
  }
 ],
 "metadata": {
  "kernelspec": {
   "display_name": "Python 3",
   "language": "python",
   "name": "python3"
  },
  "language_info": {
   "codemirror_mode": {
    "name": "ipython",
    "version": 2
   },
   "file_extension": ".py",
   "mimetype": "text/x-python",
   "name": "python",
   "nbconvert_exporter": "python",
   "pygments_lexer": "ipython2",
   "version": "2.7.6"
  }
 },
 "nbformat": 4,
 "nbformat_minor": 0
}